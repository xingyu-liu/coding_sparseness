{
 "cells": [
  {
   "cell_type": "code",
   "execution_count": 26,
   "metadata": {},
   "outputs": [],
   "source": [
    "import os\n",
    "import numpy as np\n",
    "from dnnbrain.dnn.core import Stimulus\n",
    "from dnnbrain.utils.util import gen_dmask\n",
    "from dnnbrain.dnn import models as db_models\n",
    "import torch.nn as nn\n",
    "import torch\n",
    "from scipy import stats\n",
    "import matplotlib.pyplot as plt\n",
    "from sklearn.preprocessing import MinMaxScaler\n",
    "import seaborn as sns\n",
    "import pandas as pd\n",
    "from dnnbrain.io.fileio import ActivationFile\n",
    "from activation_PSI import Dnn_act, sparseness"
   ]
  },
  {
   "cell_type": "code",
   "execution_count": 14,
   "metadata": {},
   "outputs": [],
   "source": [
    "# specify custom paremeters\n",
    "root = os.getcwd()  # root directory of analysis\n",
    "net_model = 'AlexNet'  # ['AlexNet', 'Vgg11']\n",
    "\n",
    "stim_path = os.path.join(root, 'imagenet.stim.csv') # make sure to change the path in [dataset].stim.csv to the local directory of the dataset "
   ]
  },
  {
   "cell_type": "code",
   "execution_count": 23,
   "metadata": {},
   "outputs": [],
   "source": [
    "# result path of the specified net\n",
    "net = net_model.lower() + '_relu_deactivated'\n",
    "net_dir = os.path.join(root, net)\n",
    "if os.path.exists(net_dir) is False:\n",
    "    os.mkdir(net_dir)\n",
    "\n",
    "# Load DNN, stimuli and define ablated models\n",
    "dnn = eval('db_models.{}()'.format(net_model))  # load DNN\n",
    "stimuli = Stimulus()\n",
    "stimuli.load(stim_path) # load stimuli\n",
    "\n",
    "# generate DNN mask\n",
    "layer_name = [dnn.layers[i] for i in range(len(dnn.layers)) if dnn.layers[i].split('_')[-1] == 'relu']\n",
    "dmask = gen_dmask(layer_name)  \n",
    "\n",
    "# save path\n",
    "out_dir = os.path.join(net_dir,'dnn_activation')\n",
    "if os.path.exists(out_dir) is False:\n",
    "    os.makedirs(out_dir)\n",
    "\n",
    "out_path = os.path.join(out_dir, '{0}_imagenet.act.h5'.format(net.lower()))"
   ]
  },
  {
   "cell_type": "code",
   "execution_count": 7,
   "metadata": {},
   "outputs": [],
   "source": [
    "# ReLU-deactivate model\n",
    "def norelu_model(dnn):\n",
    "    class Deact_ReLU(nn.Module):\n",
    "        def __init__(self):\n",
    "            super(Deact_ReLU, self).__init__()\n",
    "        \n",
    "        def forward(slef, x):\n",
    "            return x\n",
    "\n",
    "    def replace_relu_to_none(model):\n",
    "        for child_name, child in model.named_children():\n",
    "            if isinstance(child, nn.ReLU):\n",
    "                setattr(model, child_name, Deact_ReLU())\n",
    "            else:\n",
    "                replace_relu_to_none(child)\n",
    "    \n",
    "    replace_relu_to_none(dnn.model)"
   ]
  },
  {
   "cell_type": "code",
   "execution_count": null,
   "metadata": {},
   "outputs": [],
   "source": [
    "# prepare model\n",
    "norelu_model(dnn)    \n",
    "# extract activation\n",
    "activation = dnn.compute_activation(stimuli, dmask, 'mean', cuda=True)\n",
    "# save act\n",
    "activation.save(out_path)"
   ]
  },
  {
   "cell_type": "code",
   "execution_count": 32,
   "metadata": {},
   "outputs": [
    {
     "name": "stdout",
     "output_type": "stream",
     "text": [
      "conv1_relu done\n",
      "conv2_relu done\n",
      "conv3_relu done\n",
      "conv4_relu done\n",
      "conv5_relu done\n",
      "fc1_relu done\n",
      "fc2_relu done\n"
     ]
    }
   ],
   "source": [
    "# load activation\n",
    "dnnact_alllayer = ActivationFile(out_path).read()\n",
    "layer_name = list(dnnact_alllayer.keys())\n",
    "\n",
    "# compute PSI\n",
    "sp = []\n",
    "for layer in layer_name:\n",
    "    dnnact = Dnn_act(dnnact_alllayer[layer], stim_per_cat=50)\n",
    "    dnnact_catmean = dnnact.cat_mean_act()[0][:, :, 0]\n",
    "    dnnact_catmean_z = np.nan_to_num(stats.zscore(dnnact_catmean, 0))\n",
    "\n",
    "    # PSI\n",
    "    sparse_p = sparseness(dnnact_catmean_z.T, type='s', norm=True)\n",
    "    sp.append(np.squeeze(sparse_p))    \n",
    "    print('{0} done'.format(layer))\n",
    "\n",
    "sp_median = np.array([np.nanmedian(sp[i]) for i in range(len(sp))])"
   ]
  },
  {
   "cell_type": "code",
   "execution_count": 33,
   "metadata": {},
   "outputs": [
    {
     "data": {
      "text/plain": [
       "[<matplotlib.lines.Line2D at 0x7fe53f0092b0>]"
      ]
     },
     "execution_count": 33,
     "metadata": {},
     "output_type": "execute_result"
    },
    {
     "data": {
      "image/png": "[encoded data removed]",
      "text/plain": [
       "<Figure size 432x288 with 1 Axes>"
      ]
     },
     "metadata": {
      "needs_background": "light"
     },
     "output_type": "display_data"
    }
   ],
   "source": [
    "# plot Fig 3F\n",
    "plt.plot([layer.split('_')[0] for layer in layer_name], sp_median, c='tab:blue')"
   ]
  },
  {
   "cell_type": "code",
   "execution_count": null,
   "metadata": {},
   "outputs": [],
   "source": []
  }
 ],
 "metadata": {
  "kernelspec": {
   "display_name": "Python 3",
   "language": "python",
   "name": "python3"
  },
  "language_info": {
   "codemirror_mode": {
    "name": "ipython",
    "version": 3
   },
   "file_extension": ".py",
   "mimetype": "text/x-python",
   "name": "python",
   "nbconvert_exporter": "python",
   "pygments_lexer": "ipython3",
   "version": "3.7.3"
  }
 },
 "nbformat": 4,
 "nbformat_minor": 2
}
