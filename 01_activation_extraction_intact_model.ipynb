{
 "cells": [
  {
   "cell_type": "code",
   "execution_count": 14,
   "metadata": {},
   "outputs": [],
   "source": [
    "import os\n",
    "import numpy as np\n",
    "from dnnbrain.dnn.core import Stimulus\n",
    "from dnnbrain.utils.util import gen_dmask\n",
    "from dnnbrain.dnn import models as db_models\n",
    "import torch.nn as nn\n",
    "import torch"
   ]
  },
  {
   "cell_type": "code",
   "execution_count": 15,
   "metadata": {},
   "outputs": [],
   "source": [
    "# specify custom paremeters\n",
    "root = os.getcwd()  # root directory of analysis\n",
    "net = 'AlexNet'  # ['AlexNet', 'Vgg11']\n",
    "dataset = 'imagenet'  # ['imagenet', 'caltech256']\n",
    "stim_path = os.path.join(root, '{0}.stim.csv'.format(dataset)) # make sure to change the path in [dataset].stim.csv to the local directory of the dataset "
   ]
  },
  {
   "cell_type": "code",
   "execution_count": 16,
   "metadata": {},
   "outputs": [],
   "source": [
    "# result path of the specified net\n",
    "net_dir = os.path.join(root, net.lower())\n",
    "if os.path.exists(net_dir) is False:\n",
    "    os.mkdir(net_dir)\n",
    "\n",
    "# Load DNN, stimuli and define ablated models\n",
    "dnn = eval('db_models.{}()'.format(net))  # load DNN\n",
    "stimuli = Stimulus()\n",
    "stimuli.load(stim_path) # load stimuli\n",
    "\n",
    "# generate DNN mask\n",
    "layer_name = [dnn.layers[i] for i in range(len(dnn.layers)) if dnn.layers[i].split('_')[-1] == 'relu']\n",
    "dmask = gen_dmask(layer_name)  \n",
    "\n",
    "# save path\n",
    "out_dir = os.path.join(net_dir, 'dnn_activation')\n",
    "if os.path.exists(out_dir) is False:\n",
    "    os.makedirs(out_dir)\n",
    "\n",
    "out_path = os.path.join(out_dir, '{0}_{1}.act.h5'.format(net.lower(), dataset))"
   ]
  },
  {
   "cell_type": "code",
   "execution_count": null,
   "metadata": {},
   "outputs": [],
   "source": [
    "# extract activation and save\n",
    "activation = dnn.compute_activation(stimuli, dmask, 'mean', cuda=True)\n",
    "activation.save(out_path)"
   ]
  }
 ],
 "metadata": {
  "kernelspec": {
   "display_name": "Python 3",
   "language": "python",
   "name": "python3"
  },
  "language_info": {
   "codemirror_mode": {
    "name": "ipython",
    "version": 3
   },
   "file_extension": ".py",
   "mimetype": "text/x-python",
   "name": "python",
   "nbconvert_exporter": "python",
   "pygments_lexer": "ipython3",
   "version": "3.7.3"
  }
 },
 "nbformat": 4,
 "nbformat_minor": 2
}
